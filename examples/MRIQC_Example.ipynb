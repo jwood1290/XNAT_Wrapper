{
 "cells": [
  {
   "cell_type": "markdown",
   "id": "extended-attempt",
   "metadata": {},
   "source": [
    "# Overview\n",
    "\n",
    "This example will open an XNAT connection using the `xnat_wrapper.Connector` class, find studies using a list of study UIDs, download those studies from PACS into an XNAT project, convert the XNAT file structure to BIDS format, run the XNAT MRIQC docker container on the project, and finally save the MRIQC results to a CSV file.\n",
    "\n",
    "## Requirements\n",
    "\n",
    "The only external package used by `xnat_wrapper` is [pyxnat](https://pyxnat.github.io/pyxnat). Use `pip` to install this package:\n",
    "\n",
    "`python3 -m pip install pyxnat`"
   ]
  },
  {
   "cell_type": "markdown",
   "id": "regional-parent",
   "metadata": {},
   "source": [
    "## Import Packages"
   ]
  },
  {
   "cell_type": "markdown",
   "id": "agreed-logistics",
   "metadata": {},
   "source": [
    "Add the relative location of the `xnat_wrapper` directory to your path (in this case, the parent directory):"
   ]
  },
  {
   "cell_type": "code",
   "execution_count": null,
   "id": "superior-chrome",
   "metadata": {},
   "outputs": [],
   "source": [
    "import os\n",
    "import sys\n",
    "cwd = os.getcwd()\n",
    "sys.path.append(cwd + '/../')"
   ]
  },
  {
   "cell_type": "markdown",
   "id": "dominant-leone",
   "metadata": {},
   "source": [
    "Import the XNAT wrapper and utilities:"
   ]
  },
  {
   "cell_type": "code",
   "execution_count": null,
   "id": "empty-manufacturer",
   "metadata": {},
   "outputs": [],
   "source": [
    "from xnat_wrapper import (\n",
    "    Connector,\n",
    "    format_err,\n",
    "    json_to_csv\n",
    ")"
   ]
  },
  {
   "cell_type": "markdown",
   "id": "healthy-period",
   "metadata": {},
   "source": [
    "## Define Variables\n",
    "\n",
    "The constants/variables we will need throughout this script are stored in `constants.py`. This file currently has the following variables defined:\n",
    "\n",
    "- ***xnat_ip***: The IP address of the XNAT server\n",
    "- ***xnat_username***: The username used to login to the XNAT server\n",
    "- ***xnat_password***: The password used to login to the XNAT server\n",
    "- ***xnat_project***: The name of the XNAT project on the server\n",
    "- ***results_file***: Name of the JSON file where the results will be stored\n",
    "- ***results_csv***: Name of the CSV file where the results will be stored (converted from JSON)\n",
    "- ***uid_list***: List of study UIDs that we will import from PACS\n",
    "- ***filters***: List of filters that we will use to only pull relevant files\n",
    "- ***commands***: List of commands (XNAT plugins/containers) that we will run on the imported files\n",
    "- ***resource_dir***: XNAT resource folder in which to look for the appropriate JSON files\n",
    "- ***add_keys***: Additional headers in CSV that are not base key/value pairs in the json structures (files) returned from XNAT"
   ]
  },
  {
   "cell_type": "code",
   "execution_count": null,
   "id": "olympic-bracelet",
   "metadata": {},
   "outputs": [],
   "source": [
    "from constants import *"
   ]
  },
  {
   "cell_type": "markdown",
   "id": "blond-green",
   "metadata": {},
   "source": [
    "The `xnat_wrapper.Connector` class that we just imported will be how we connect and access the XNAT instance. The `format_err` and `json_to_csv` are utilities we will use later.\n",
    "\n",
    "## Connect to XNAT\n",
    "\n",
    "Login to XNAT session using config file (JSON file containing XNAT server IP address, username, and password). As an alternative, you can log into the session by passing your server, username, and password (which is what is in the config file) directly."
   ]
  },
  {
   "cell_type": "code",
   "execution_count": null,
   "id": "monetary-satellite",
   "metadata": {},
   "outputs": [],
   "source": [
    "xnat = Connector(server=xnat_ip,\n",
    "                user=xnat_username,\n",
    "                password=xnat_password,\n",
    "                project=xnat_project)"
   ]
  },
  {
   "cell_type": "markdown",
   "id": "active-stylus",
   "metadata": {},
   "source": [
    "Check that we are successfully connected to the XNAT server:"
   ]
  },
  {
   "cell_type": "code",
   "execution_count": null,
   "id": "joint-academy",
   "metadata": {},
   "outputs": [],
   "source": [
    "if xnat.is_connected():\n",
    "    print('Successfully connected to the XNAT server!')\n",
    "else:\n",
    "    print('Could not establish a connection to the XNAT server.')\n",
    "    sys.exit()"
   ]
  },
  {
   "cell_type": "markdown",
   "id": "further-naples",
   "metadata": {},
   "source": [
    "## Find and Import Studies\n",
    "\n",
    "After we successfully connect to the XNAT server, we will want to import some studies to our project. The `xnat_wrapper.Connector` class has an `importer` utility that we will use to do this. \n",
    "\n",
    "First, set the study UIDs (***uid_list***) using the `importer.set_uids()` function:"
   ]
  },
  {
   "cell_type": "code",
   "execution_count": null,
   "id": "regulation-siemens",
   "metadata": {},
   "outputs": [],
   "source": [
    "xnat.importer.set_uids(uid_list)"
   ]
  },
  {
   "cell_type": "markdown",
   "id": "homeless-victorian",
   "metadata": {},
   "source": [
    "We also want to make sure that we only find the studies relevant to our project, so we can set a study filter (***filters***) using the `importer.set_filters()` function:"
   ]
  },
  {
   "cell_type": "code",
   "execution_count": null,
   "id": "ranking-indiana",
   "metadata": {},
   "outputs": [],
   "source": [
    "xnat.importer.set_filters(filters)"
   ]
  },
  {
   "cell_type": "markdown",
   "id": "novel-reserve",
   "metadata": {},
   "source": [
    "With the UIDs and filters set, we can now find all relevant studies using the `importer.find_studies()` function. All relevant studies found will be stored in `xnat.importer.studies`."
   ]
  },
  {
   "cell_type": "code",
   "execution_count": null,
   "id": "planned-syracuse",
   "metadata": {},
   "outputs": [],
   "source": [
    "xnat.importer.find_studies()"
   ]
  },
  {
   "cell_type": "markdown",
   "id": "concerned-hunger",
   "metadata": {},
   "source": [
    "Once we find all of the studies, we need to import them into our project using the `importer.import_studies()` function. This function will return `True` if the import request was successful (not if the studies were imported) and `False` if the request failed. If the request is successful, we can monitor the status of the import using the `importer.monitor_import_queue()` function. If this fails, make sure to close the XNAT connection prior to exiting the script using the `xnat.close_session()` function."
   ]
  },
  {
   "cell_type": "code",
   "execution_count": null,
   "id": "similar-twenty",
   "metadata": {},
   "outputs": [],
   "source": [
    "if xnat.importer.import_studies():\n",
    "    xnat.importer.monitor_import_queue(timeout=180, time_refresh=True)\n",
    "else:\n",
    "    print('Unable to import studies to {}.'.format(xnat_project))\n",
    "    xnat.close_session()\n",
    "    sys.exit()"
   ]
  },
  {
   "cell_type": "markdown",
   "id": "wrong-hardware",
   "metadata": {},
   "source": [
    "## Run XNAT Commands on a Project\n",
    "\n",
    "After we successfully import the studies to our project, now we want to run a series of commands (***commands***) on the project files. All command-related functions use the `commands` utility of the `xnat_wrapper.Connector` (in this example it is accessed via `xnat.commands`). \n",
    "\n",
    "First, we need to tell the utility which commands to use. These commands can be added via `commands.set_commands()` or explicitly called when using the `commands.run_commands()` function."
   ]
  },
  {
   "cell_type": "code",
   "execution_count": null,
   "id": "developing-avenue",
   "metadata": {},
   "outputs": [],
   "source": [
    "xnat.commands.set_commands(commands)"
   ]
  },
  {
   "cell_type": "markdown",
   "id": "northern-management",
   "metadata": {},
   "source": [
    "Next, we need to find all experiments in the project so that the commands know which files to access during runtime:"
   ]
  },
  {
   "cell_type": "code",
   "execution_count": null,
   "id": "controlling-usage",
   "metadata": {},
   "outputs": [],
   "source": [
    "xnat.commands.find_project_experiments()"
   ]
  },
  {
   "cell_type": "markdown",
   "id": "latin-minister",
   "metadata": {},
   "source": [
    "Check that some sessions/scans were found before moving on. Alternatively, a dictionary containing sessions and scans can be retrieved using the `commands.get_project_experiments()` function."
   ]
  },
  {
   "cell_type": "code",
   "execution_count": null,
   "id": "metropolitan-closer",
   "metadata": {},
   "outputs": [],
   "source": [
    "if not xnat.commands.has_experiments(): \n",
    "    print('No scans or sessions found in {}.'.format(xnat_project))\n",
    "    xnat.close_session()\n",
    "    sys.exit()"
   ]
  },
  {
   "cell_type": "markdown",
   "id": "lonely-america",
   "metadata": {},
   "source": [
    "If scans and/or sessions were found, run our list of commands on them using the `commands.run_commands()` function:"
   ]
  },
  {
   "cell_type": "code",
   "execution_count": null,
   "id": "alike-celtic",
   "metadata": {},
   "outputs": [],
   "source": [
    "xnat.commands.run_commands()"
   ]
  },
  {
   "cell_type": "markdown",
   "id": "hybrid-depression",
   "metadata": {},
   "source": [
    "Write results to file (***results_file***). This function will check that results exist prior to file creation. The `.json` extension will be added if not supplied."
   ]
  },
  {
   "cell_type": "code",
   "execution_count": null,
   "id": "painted-madison",
   "metadata": {},
   "outputs": [],
   "source": [
    "xnat.commands.save_results(results_file)"
   ]
  },
  {
   "cell_type": "markdown",
   "id": "biological-liverpool",
   "metadata": {},
   "source": [
    "The last command in our list was the MRIQC command. If the MRIQC function was successful (i.e. if there are results available), there should now be JSON files in the project. Those need to be combined into a single CSV file so the results can be plotted later. "
   ]
  },
  {
   "cell_type": "code",
   "execution_count": null,
   "id": "talented-brooks",
   "metadata": {},
   "outputs": [],
   "source": [
    "if xnat.commands.get_results():\n",
    "    json_files = xnat.commands.download_json_files(resource=resource_dir)\n",
    "    json_to_csv(json_files,results_csv,keys=add_keys)"
   ]
  },
  {
   "cell_type": "markdown",
   "id": "apparent-sacrifice",
   "metadata": {},
   "source": [
    "Once that is complete, we are finished! All that is left to do is close out the XNAT session."
   ]
  },
  {
   "cell_type": "code",
   "execution_count": null,
   "id": "electronic-helicopter",
   "metadata": {},
   "outputs": [],
   "source": [
    "xnat.close_session()"
   ]
  }
 ],
 "metadata": {
  "kernelspec": {
   "display_name": "Python 3",
   "language": "python",
   "name": "python3"
  },
  "language_info": {
   "codemirror_mode": {
    "name": "ipython",
    "version": 3
   },
   "file_extension": ".py",
   "mimetype": "text/x-python",
   "name": "python",
   "nbconvert_exporter": "python",
   "pygments_lexer": "ipython3",
   "version": "3.8.5"
  }
 },
 "nbformat": 4,
 "nbformat_minor": 5
}
